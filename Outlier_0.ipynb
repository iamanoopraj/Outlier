{
 "cells": [
  {
   "cell_type": "markdown",
   "id": "f696157f-b64b-47be-8824-27079268d156",
   "metadata": {},
   "source": [
    "# Handle Outliers:\n",
    "\n",
    "<b>Removal:You can choose to remove the data points that are identified as outliers.\n",
    "\n",
    "<b>Transformation: You can apply transformations to the data to reduce the impact of outliers (e.g.,log transformation).\n",
    "\n",
    "<b>Capping: You can cap the extreme values at a certain threshold.\n",
    "\n",
    "<b>Imputation: You can replace outliers with more representative values (e.g.,mean,median) if appropriate. "
   ]
  },
  {
   "cell_type": "code",
   "execution_count": 1,
   "id": "e1b7d5b7-581c-4f73-abb6-d80405e4f9c1",
   "metadata": {},
   "outputs": [],
   "source": [
    "import pandas as pd\n",
    "import numpy as np\n",
    "import matplotlib.pyplot as plt\n",
    "import seaborn as sns"
   ]
  },
  {
   "cell_type": "code",
   "execution_count": 2,
   "id": "8946b8e2-4e8f-481a-a084-4b67d06f69ce",
   "metadata": {},
   "outputs": [
    {
     "data": {
      "text/html": [
       "<div>\n",
       "<style scoped>\n",
       "    .dataframe tbody tr th:only-of-type {\n",
       "        vertical-align: middle;\n",
       "    }\n",
       "\n",
       "    .dataframe tbody tr th {\n",
       "        vertical-align: top;\n",
       "    }\n",
       "\n",
       "    .dataframe thead th {\n",
       "        text-align: right;\n",
       "    }\n",
       "</style>\n",
       "<table border=\"1\" class=\"dataframe\">\n",
       "  <thead>\n",
       "    <tr style=\"text-align: right;\">\n",
       "      <th></th>\n",
       "      <th>Unnamed: 0</th>\n",
       "      <th>loan_id</th>\n",
       "      <th>no_of_dependents</th>\n",
       "      <th>education</th>\n",
       "      <th>self_employed</th>\n",
       "      <th>income_annum</th>\n",
       "      <th>loan_amount</th>\n",
       "      <th>loan_term</th>\n",
       "      <th>cibil_score</th>\n",
       "      <th>residential_assets_value</th>\n",
       "      <th>commercial_assets_value</th>\n",
       "      <th>luxury_assets_value</th>\n",
       "      <th>bank_asset_value</th>\n",
       "      <th>loan_status</th>\n",
       "    </tr>\n",
       "  </thead>\n",
       "  <tbody>\n",
       "    <tr>\n",
       "      <th>0</th>\n",
       "      <td>0</td>\n",
       "      <td>1</td>\n",
       "      <td>2.0</td>\n",
       "      <td>Graduate</td>\n",
       "      <td>No</td>\n",
       "      <td>9600000.0</td>\n",
       "      <td>29900000.0</td>\n",
       "      <td>NaN</td>\n",
       "      <td>778.0</td>\n",
       "      <td>2400000.0</td>\n",
       "      <td>17600000.0</td>\n",
       "      <td>22700000.0</td>\n",
       "      <td>8000000.0</td>\n",
       "      <td>Approved</td>\n",
       "    </tr>\n",
       "    <tr>\n",
       "      <th>1</th>\n",
       "      <td>1</td>\n",
       "      <td>2</td>\n",
       "      <td>0.0</td>\n",
       "      <td>Not Graduate</td>\n",
       "      <td>Yes</td>\n",
       "      <td>4100000.0</td>\n",
       "      <td>12200000.0</td>\n",
       "      <td>8.0</td>\n",
       "      <td>417.0</td>\n",
       "      <td>2700000.0</td>\n",
       "      <td>2200000.0</td>\n",
       "      <td>8800000.0</td>\n",
       "      <td>NaN</td>\n",
       "      <td>Rejected</td>\n",
       "    </tr>\n",
       "    <tr>\n",
       "      <th>2</th>\n",
       "      <td>2</td>\n",
       "      <td>3</td>\n",
       "      <td>3.0</td>\n",
       "      <td>Graduate</td>\n",
       "      <td>No</td>\n",
       "      <td>9100000.0</td>\n",
       "      <td>29700000.0</td>\n",
       "      <td>20.0</td>\n",
       "      <td>506.0</td>\n",
       "      <td>7100000.0</td>\n",
       "      <td>NaN</td>\n",
       "      <td>33300000.0</td>\n",
       "      <td>12800000.0</td>\n",
       "      <td>Rejected</td>\n",
       "    </tr>\n",
       "    <tr>\n",
       "      <th>3</th>\n",
       "      <td>3</td>\n",
       "      <td>4</td>\n",
       "      <td>3.0</td>\n",
       "      <td>Graduate</td>\n",
       "      <td>No</td>\n",
       "      <td>8200000.0</td>\n",
       "      <td>30700000.0</td>\n",
       "      <td>8.0</td>\n",
       "      <td>467.0</td>\n",
       "      <td>NaN</td>\n",
       "      <td>3300000.0</td>\n",
       "      <td>23300000.0</td>\n",
       "      <td>7900000.0</td>\n",
       "      <td>Rejected</td>\n",
       "    </tr>\n",
       "    <tr>\n",
       "      <th>4</th>\n",
       "      <td>4</td>\n",
       "      <td>5</td>\n",
       "      <td>5.0</td>\n",
       "      <td>Not Graduate</td>\n",
       "      <td>Yes</td>\n",
       "      <td>9800000.0</td>\n",
       "      <td>24200000.0</td>\n",
       "      <td>20.0</td>\n",
       "      <td>382.0</td>\n",
       "      <td>12400000.0</td>\n",
       "      <td>8200000.0</td>\n",
       "      <td>29400000.0</td>\n",
       "      <td>5000000.0</td>\n",
       "      <td>Rejected</td>\n",
       "    </tr>\n",
       "  </tbody>\n",
       "</table>\n",
       "</div>"
      ],
      "text/plain": [
       "   Unnamed: 0  loan_id  no_of_dependents      education self_employed  \\\n",
       "0           0        1               2.0       Graduate            No   \n",
       "1           1        2               0.0   Not Graduate           Yes   \n",
       "2           2        3               3.0       Graduate            No   \n",
       "3           3        4               3.0       Graduate            No   \n",
       "4           4        5               5.0   Not Graduate           Yes   \n",
       "\n",
       "   income_annum  loan_amount  loan_term  cibil_score  \\\n",
       "0     9600000.0   29900000.0        NaN        778.0   \n",
       "1     4100000.0   12200000.0        8.0        417.0   \n",
       "2     9100000.0   29700000.0       20.0        506.0   \n",
       "3     8200000.0   30700000.0        8.0        467.0   \n",
       "4     9800000.0   24200000.0       20.0        382.0   \n",
       "\n",
       "   residential_assets_value  commercial_assets_value  luxury_assets_value  \\\n",
       "0                 2400000.0               17600000.0           22700000.0   \n",
       "1                 2700000.0                2200000.0            8800000.0   \n",
       "2                 7100000.0                      NaN           33300000.0   \n",
       "3                       NaN                3300000.0           23300000.0   \n",
       "4                12400000.0                8200000.0           29400000.0   \n",
       "\n",
       "   bank_asset_value loan_status  \n",
       "0         8000000.0    Approved  \n",
       "1               NaN    Rejected  \n",
       "2        12800000.0    Rejected  \n",
       "3         7900000.0    Rejected  \n",
       "4         5000000.0    Rejected  "
      ]
     },
     "execution_count": 2,
     "metadata": {},
     "output_type": "execute_result"
    }
   ],
   "source": [
    "data = pd.read_csv('LoanApproval-EDA.csv')\n",
    "data.head()"
   ]
  },
  {
   "cell_type": "code",
   "execution_count": 3,
   "id": "abffd7a3-8cab-4964-9c90-bbd6e95ea751",
   "metadata": {},
   "outputs": [],
   "source": [
    "df = data.copy()\n"
   ]
  },
  {
   "cell_type": "code",
   "execution_count": 4,
   "id": "3dd6c6a3-1824-44ba-8121-49c8f14be19e",
   "metadata": {},
   "outputs": [],
   "source": [
    "categorical = []\n",
    "numerical = []\n",
    "for col in df.columns:\n",
    "    if df[col].dtypes=='O':\n",
    "        categorical.append(col)\n",
    "    else:\n",
    "        numerical.append(col)"
   ]
  },
  {
   "cell_type": "code",
   "execution_count": 5,
   "id": "d4fb5efc-7a8e-4b18-a35e-ba7e0d845f00",
   "metadata": {},
   "outputs": [],
   "source": [
    "colsToStudy = ['residential_assets_value','commercial_assets_value']\n",
    "data = df[colsToStudy]\n"
   ]
  },
  {
   "cell_type": "code",
   "execution_count": 6,
   "id": "4802bee3-cf9a-4255-afcb-3254c978d781",
   "metadata": {},
   "outputs": [
    {
     "data": {
      "text/html": [
       "<div>\n",
       "<style scoped>\n",
       "    .dataframe tbody tr th:only-of-type {\n",
       "        vertical-align: middle;\n",
       "    }\n",
       "\n",
       "    .dataframe tbody tr th {\n",
       "        vertical-align: top;\n",
       "    }\n",
       "\n",
       "    .dataframe thead th {\n",
       "        text-align: right;\n",
       "    }\n",
       "</style>\n",
       "<table border=\"1\" class=\"dataframe\">\n",
       "  <thead>\n",
       "    <tr style=\"text-align: right;\">\n",
       "      <th></th>\n",
       "      <th>residential_assets_value</th>\n",
       "      <th>commercial_assets_value</th>\n",
       "    </tr>\n",
       "  </thead>\n",
       "  <tbody>\n",
       "    <tr>\n",
       "      <th>0</th>\n",
       "      <td>2400000.0</td>\n",
       "      <td>17600000.0</td>\n",
       "    </tr>\n",
       "    <tr>\n",
       "      <th>1</th>\n",
       "      <td>2700000.0</td>\n",
       "      <td>2200000.0</td>\n",
       "    </tr>\n",
       "    <tr>\n",
       "      <th>2</th>\n",
       "      <td>7100000.0</td>\n",
       "      <td>NaN</td>\n",
       "    </tr>\n",
       "    <tr>\n",
       "      <th>3</th>\n",
       "      <td>NaN</td>\n",
       "      <td>3300000.0</td>\n",
       "    </tr>\n",
       "    <tr>\n",
       "      <th>4</th>\n",
       "      <td>12400000.0</td>\n",
       "      <td>8200000.0</td>\n",
       "    </tr>\n",
       "    <tr>\n",
       "      <th>...</th>\n",
       "      <td>...</td>\n",
       "      <td>...</td>\n",
       "    </tr>\n",
       "    <tr>\n",
       "      <th>4264</th>\n",
       "      <td>2800000.0</td>\n",
       "      <td>500000.0</td>\n",
       "    </tr>\n",
       "    <tr>\n",
       "      <th>4265</th>\n",
       "      <td>4200000.0</td>\n",
       "      <td>NaN</td>\n",
       "    </tr>\n",
       "    <tr>\n",
       "      <th>4266</th>\n",
       "      <td>1200000.0</td>\n",
       "      <td>12400000.0</td>\n",
       "    </tr>\n",
       "    <tr>\n",
       "      <th>4267</th>\n",
       "      <td>8200000.0</td>\n",
       "      <td>700000.0</td>\n",
       "    </tr>\n",
       "    <tr>\n",
       "      <th>4268</th>\n",
       "      <td>17800000.0</td>\n",
       "      <td>11800000.0</td>\n",
       "    </tr>\n",
       "  </tbody>\n",
       "</table>\n",
       "<p>4269 rows × 2 columns</p>\n",
       "</div>"
      ],
      "text/plain": [
       "      residential_assets_value  commercial_assets_value\n",
       "0                    2400000.0               17600000.0\n",
       "1                    2700000.0                2200000.0\n",
       "2                    7100000.0                      NaN\n",
       "3                          NaN                3300000.0\n",
       "4                   12400000.0                8200000.0\n",
       "...                        ...                      ...\n",
       "4264                 2800000.0                 500000.0\n",
       "4265                 4200000.0                      NaN\n",
       "4266                 1200000.0               12400000.0\n",
       "4267                 8200000.0                 700000.0\n",
       "4268                17800000.0               11800000.0\n",
       "\n",
       "[4269 rows x 2 columns]"
      ]
     },
     "execution_count": 6,
     "metadata": {},
     "output_type": "execute_result"
    }
   ],
   "source": [
    "data"
   ]
  },
  {
   "cell_type": "code",
   "execution_count": 7,
   "id": "f5f6ec9b-c96b-42f7-aca2-ecc850a33418",
   "metadata": {},
   "outputs": [
    {
     "data": {
      "text/plain": [
       "<Axes: >"
      ]
     },
     "execution_count": 7,
     "metadata": {},
     "output_type": "execute_result"
    },
    {
     "data": {
      "image/png": "[encoded data removed]",
      "text/plain": [
       "<Figure size 640x480 with 1 Axes>"
      ]
     },
     "metadata": {},
     "output_type": "display_data"
    }
   ],
   "source": [
    "sns.boxplot(data['residential_assets_value'])"
   ]
  },
  {
   "cell_type": "markdown",
   "id": "68dbbd1e-0dc3-4bc0-a75e-0d1b6baedfc7",
   "metadata": {},
   "source": [
    "# Boundary Values"
   ]
  },
  {
   "cell_type": "markdown",
   "id": "c63cf0f0-c1ad-4186-b38e-03805e519280",
   "metadata": {},
   "source": [
    "# mean+-3*std_dev "
   ]
  },
  {
   "cell_type": "code",
   "execution_count": 8,
   "id": "76e6ea34-2bfa-44fa-9370-5397097d369f",
   "metadata": {},
   "outputs": [
    {
     "name": "stderr",
     "output_type": "stream",
     "text": [
      "C:\\Users\\Anoop Raj\\AppData\\Local\\Temp\\ipykernel_19472\\2521060659.py:1: SettingWithCopyWarning: \n",
      "A value is trying to be set on a copy of a slice from a DataFrame.\n",
      "Try using .loc[row_indexer,col_indexer] = value instead\n",
      "\n",
      "See the caveats in the documentation: https://pandas.pydata.org/pandas-docs/stable/user_guide/indexing.html#returning-a-view-versus-a-copy\n",
      "  data['boundval_rav'] = data['residential_assets_value']\n"
     ]
    }
   ],
   "source": [
    "data['boundval_rav'] = data['residential_assets_value'] "
   ]
  },
  {
   "cell_type": "code",
   "execution_count": 9,
   "id": "3508d932-c779-44ac-b624-99ea0726f087",
   "metadata": {},
   "outputs": [
    {
     "data": {
      "text/plain": [
       "residential_assets_value    261\n",
       "commercial_assets_value     179\n",
       "boundval_rav                261\n",
       "dtype: int64"
      ]
     },
     "execution_count": 9,
     "metadata": {},
     "output_type": "execute_result"
    }
   ],
   "source": [
    "data.isnull().sum()"
   ]
  },
  {
   "cell_type": "code",
   "execution_count": 10,
   "id": "10a9cba3-27c5-4f23-aefa-ae4ee6cc6368",
   "metadata": {},
   "outputs": [
    {
     "name": "stderr",
     "output_type": "stream",
     "text": [
      "C:\\Users\\Anoop Raj\\AppData\\Local\\Temp\\ipykernel_19472\\2154520453.py:1: FutureWarning: A value is trying to be set on a copy of a DataFrame or Series through chained assignment using an inplace method.\n",
      "The behavior will change in pandas 3.0. This inplace method will never work because the intermediate object on which we are setting values always behaves as a copy.\n",
      "\n",
      "For example, when doing 'df[col].method(value, inplace=True)', try using 'df.method({col: value}, inplace=True)' or df[col] = df[col].method(value) instead, to perform the operation inplace on the original object.\n",
      "\n",
      "\n",
      "  data['boundval_rav'].fillna(data['boundval_rav'].mean(),inplace=True)\n",
      "C:\\Users\\Anoop Raj\\AppData\\Local\\Temp\\ipykernel_19472\\2154520453.py:1: SettingWithCopyWarning: \n",
      "A value is trying to be set on a copy of a slice from a DataFrame\n",
      "\n",
      "See the caveats in the documentation: https://pandas.pydata.org/pandas-docs/stable/user_guide/indexing.html#returning-a-view-versus-a-copy\n",
      "  data['boundval_rav'].fillna(data['boundval_rav'].mean(),inplace=True)\n"
     ]
    }
   ],
   "source": [
    "data['boundval_rav'].fillna(data['boundval_rav'].mean(),inplace=True)"
   ]
  },
  {
   "cell_type": "code",
   "execution_count": 11,
   "id": "205cc8a4-49ad-4d38-834e-6882a2116494",
   "metadata": {},
   "outputs": [
    {
     "data": {
      "text/plain": [
       "residential_assets_value    261\n",
       "commercial_assets_value     179\n",
       "boundval_rav                  0\n",
       "dtype: int64"
      ]
     },
     "execution_count": 11,
     "metadata": {},
     "output_type": "execute_result"
    }
   ],
   "source": [
    "data.isnull().sum()"
   ]
  },
  {
   "cell_type": "code",
   "execution_count": 12,
   "id": "81ad414e-f57a-40ad-9dfa-adf1fb34d06b",
   "metadata": {},
   "outputs": [
    {
     "name": "stderr",
     "output_type": "stream",
     "text": [
      "C:\\Users\\Anoop Raj\\anaconda3\\Lib\\site-packages\\seaborn\\_oldcore.py:1119: FutureWarning: use_inf_as_na option is deprecated and will be removed in a future version. Convert inf values to NaN before operating instead.\n",
      "  with pd.option_context('mode.use_inf_as_na', True):\n"
     ]
    },
    {
     "data": {
      "text/plain": [
       "<Axes: xlabel='boundval_rav', ylabel='Density'>"
      ]
     },
     "execution_count": 12,
     "metadata": {},
     "output_type": "execute_result"
    },
    {
     "data": {
      "image/png": "[encoded data removed]",
      "text/plain": [
       "<Figure size 640x480 with 1 Axes>"
      ]
     },
     "metadata": {},
     "output_type": "display_data"
    }
   ],
   "source": [
    "sns.kdeplot(data['boundval_rav'])"
   ]
  },
  {
   "cell_type": "code",
   "execution_count": 13,
   "id": "b9cc1109-08b0-4b4a-8cdf-4fd9bc240176",
   "metadata": {},
   "outputs": [
    {
     "data": {
      "text/plain": [
       "<Axes: >"
      ]
     },
     "execution_count": 13,
     "metadata": {},
     "output_type": "execute_result"
    },
    {
     "data": {
      "image/png": "[encoded data removed]",
      "text/plain": [
       "<Figure size 640x480 with 1 Axes>"
      ]
     },
     "metadata": {},
     "output_type": "display_data"
    }
   ],
   "source": [
    "sns.boxplot(data['boundval_rav'])"
   ]
  },
  {
   "cell_type": "code",
   "execution_count": 14,
   "id": "5899f447-dc0f-49b1-80d0-c20a7133b18f",
   "metadata": {},
   "outputs": [],
   "source": [
    "mean = data['boundval_rav'].mean()\n",
    "std = data['boundval_rav'].std()"
   ]
  },
  {
   "cell_type": "code",
   "execution_count": 15,
   "id": "fb48a374-e802-4e3f-af60-88f7df0c50e9",
   "metadata": {},
   "outputs": [],
   "source": [
    "upper_boundary = mean+(3*std)\n",
    "lower_boundary = mean-(3*std)"
   ]
  },
  {
   "cell_type": "markdown",
   "id": "8307f033-151d-40d6-a78d-d093fcdd0f0d",
   "metadata": {},
   "source": [
    "## Trimming"
   ]
  },
  {
   "cell_type": "code",
   "execution_count": 16,
   "id": "47be76ec-1336-4980-93f8-a395eeeaac74",
   "metadata": {},
   "outputs": [
    {
     "data": {
      "text/plain": [
       "(17, 3)"
      ]
     },
     "execution_count": 16,
     "metadata": {},
     "output_type": "execute_result"
    }
   ],
   "source": [
    "data[(data['boundval_rav']>upper_boundary) | (data['boundval_rav']<lower_boundary)].shape"
   ]
  },
  {
   "cell_type": "code",
   "execution_count": 17,
   "id": "9b6d5e58-2d9e-496a-b69b-0b3a13d59112",
   "metadata": {},
   "outputs": [],
   "source": [
    "boundval_rav = data[(data['boundval_rav']<=upper_boundary) & (data['boundval_rav']>=lower_boundary)]"
   ]
  },
  {
   "cell_type": "code",
   "execution_count": 18,
   "id": "c3eff17e-ac6b-4758-be35-ed7ca707c547",
   "metadata": {},
   "outputs": [
    {
     "name": "stderr",
     "output_type": "stream",
     "text": [
      "C:\\Users\\Anoop Raj\\anaconda3\\Lib\\site-packages\\seaborn\\_oldcore.py:1119: FutureWarning: use_inf_as_na option is deprecated and will be removed in a future version. Convert inf values to NaN before operating instead.\n",
      "  with pd.option_context('mode.use_inf_as_na', True):\n",
      "C:\\Users\\Anoop Raj\\anaconda3\\Lib\\site-packages\\seaborn\\_oldcore.py:1119: FutureWarning: use_inf_as_na option is deprecated and will be removed in a future version. Convert inf values to NaN before operating instead.\n",
      "  with pd.option_context('mode.use_inf_as_na', True):\n"
     ]
    },
    {
     "data": {
      "text/plain": [
       "<matplotlib.legend.Legend at 0x14ccf783c50>"
      ]
     },
     "execution_count": 18,
     "metadata": {},
     "output_type": "execute_result"
    },
    {
     "data": {
      "image/png": "[encoded data removed]",
      "text/plain": [
       "<Figure size 640x480 with 1 Axes>"
      ]
     },
     "metadata": {},
     "output_type": "display_data"
    }
   ],
   "source": [
    "sns.kdeplot(data['residential_assets_value'],label = 'with outlier')\n",
    "sns.kdeplot(data['boundval_rav'],label=' without outlier')\n",
    "plt.legend()\n"
   ]
  },
  {
   "cell_type": "code",
   "execution_count": 19,
   "id": "1920a0c2-7fe2-4f70-a756-bbc99771cb2b",
   "metadata": {},
   "outputs": [
    {
     "data": {
      "text/plain": [
       "(4269, 14)"
      ]
     },
     "execution_count": 19,
     "metadata": {},
     "output_type": "execute_result"
    }
   ],
   "source": [
    "df.shape"
   ]
  },
  {
   "cell_type": "code",
   "execution_count": 20,
   "id": "1f6a90fd-eda1-4b3f-a2f1-323e1025918b",
   "metadata": {},
   "outputs": [
    {
     "data": {
      "text/plain": [
       "(4252, 3)"
      ]
     },
     "execution_count": 20,
     "metadata": {},
     "output_type": "execute_result"
    }
   ],
   "source": [
    "boundval_rav.shape"
   ]
  },
  {
   "cell_type": "code",
   "execution_count": 21,
   "id": "f4cb8c6d-a3dd-415f-a5f9-58b5bffdf58a",
   "metadata": {},
   "outputs": [
    {
     "data": {
      "text/plain": [
       "0       2.400000e+06\n",
       "1       2.700000e+06\n",
       "2       7.100000e+06\n",
       "3       7.453194e+06\n",
       "4       1.240000e+07\n",
       "            ...     \n",
       "4264    2.800000e+06\n",
       "4265    4.200000e+06\n",
       "4266    1.200000e+06\n",
       "4267    8.200000e+06\n",
       "4268    1.780000e+07\n",
       "Name: boundval_rav, Length: 4269, dtype: float64"
      ]
     },
     "execution_count": 21,
     "metadata": {},
     "output_type": "execute_result"
    }
   ],
   "source": [
    "data['boundval_rav']"
   ]
  },
  {
   "cell_type": "markdown",
   "id": "07d5b578-679b-4396-8cbb-e305691fabbb",
   "metadata": {},
   "source": [
    "# Capping"
   ]
  },
  {
   "cell_type": "code",
   "execution_count": 22,
   "id": "54053d24-b707-4c15-90ed-f6eed9dc4a6a",
   "metadata": {},
   "outputs": [
    {
     "name": "stderr",
     "output_type": "stream",
     "text": [
      "C:\\Users\\Anoop Raj\\AppData\\Local\\Temp\\ipykernel_19472\\2512520247.py:1: SettingWithCopyWarning: \n",
      "A value is trying to be set on a copy of a slice from a DataFrame.\n",
      "Try using .loc[row_indexer,col_indexer] = value instead\n",
      "\n",
      "See the caveats in the documentation: https://pandas.pydata.org/pandas-docs/stable/user_guide/indexing.html#returning-a-view-versus-a-copy\n",
      "  data['cappednp_rav'] = np.where(data['boundval_rav']>upper_boundary,upper_boundary,\n"
     ]
    }
   ],
   "source": [
    "data['cappednp_rav'] = np.where(data['boundval_rav']>upper_boundary,upper_boundary,\n",
    "         np.where(data['boundval_rav']<lower_boundary,lower_boundary,data['boundval_rav']))"
   ]
  },
  {
   "cell_type": "code",
   "execution_count": null,
   "id": "dfd93767-db91-4dcb-b8df-26e4369b79fc",
   "metadata": {},
   "outputs": [],
   "source": []
  },
  {
   "cell_type": "code",
   "execution_count": 23,
   "id": "9908524d-124d-439b-a13f-bf7a77c9f7b2",
   "metadata": {},
   "outputs": [
    {
     "data": {
      "text/html": [
       "<div>\n",
       "<style scoped>\n",
       "    .dataframe tbody tr th:only-of-type {\n",
       "        vertical-align: middle;\n",
       "    }\n",
       "\n",
       "    .dataframe tbody tr th {\n",
       "        vertical-align: top;\n",
       "    }\n",
       "\n",
       "    .dataframe thead th {\n",
       "        text-align: right;\n",
       "    }\n",
       "</style>\n",
       "<table border=\"1\" class=\"dataframe\">\n",
       "  <thead>\n",
       "    <tr style=\"text-align: right;\">\n",
       "      <th></th>\n",
       "      <th>residential_assets_value</th>\n",
       "      <th>commercial_assets_value</th>\n",
       "      <th>boundval_rav</th>\n",
       "      <th>cappednp_rav</th>\n",
       "    </tr>\n",
       "  </thead>\n",
       "  <tbody>\n",
       "    <tr>\n",
       "      <th>0</th>\n",
       "      <td>2400000.0</td>\n",
       "      <td>17600000.0</td>\n",
       "      <td>2.400000e+06</td>\n",
       "      <td>2.400000e+06</td>\n",
       "    </tr>\n",
       "    <tr>\n",
       "      <th>1</th>\n",
       "      <td>2700000.0</td>\n",
       "      <td>2200000.0</td>\n",
       "      <td>2.700000e+06</td>\n",
       "      <td>2.700000e+06</td>\n",
       "    </tr>\n",
       "    <tr>\n",
       "      <th>2</th>\n",
       "      <td>7100000.0</td>\n",
       "      <td>NaN</td>\n",
       "      <td>7.100000e+06</td>\n",
       "      <td>7.100000e+06</td>\n",
       "    </tr>\n",
       "    <tr>\n",
       "      <th>3</th>\n",
       "      <td>NaN</td>\n",
       "      <td>3300000.0</td>\n",
       "      <td>7.453194e+06</td>\n",
       "      <td>7.453194e+06</td>\n",
       "    </tr>\n",
       "    <tr>\n",
       "      <th>4</th>\n",
       "      <td>12400000.0</td>\n",
       "      <td>8200000.0</td>\n",
       "      <td>1.240000e+07</td>\n",
       "      <td>1.240000e+07</td>\n",
       "    </tr>\n",
       "  </tbody>\n",
       "</table>\n",
       "</div>"
      ],
      "text/plain": [
       "   residential_assets_value  commercial_assets_value  boundval_rav  \\\n",
       "0                 2400000.0               17600000.0  2.400000e+06   \n",
       "1                 2700000.0                2200000.0  2.700000e+06   \n",
       "2                 7100000.0                      NaN  7.100000e+06   \n",
       "3                       NaN                3300000.0  7.453194e+06   \n",
       "4                12400000.0                8200000.0  1.240000e+07   \n",
       "\n",
       "   cappednp_rav  \n",
       "0  2.400000e+06  \n",
       "1  2.700000e+06  \n",
       "2  7.100000e+06  \n",
       "3  7.453194e+06  \n",
       "4  1.240000e+07  "
      ]
     },
     "execution_count": 23,
     "metadata": {},
     "output_type": "execute_result"
    }
   ],
   "source": [
    "data.head()"
   ]
  },
  {
   "cell_type": "code",
   "execution_count": 24,
   "id": "8240d3bb-c9c4-4e4f-92b9-4d97ccfb5320",
   "metadata": {},
   "outputs": [
    {
     "name": "stderr",
     "output_type": "stream",
     "text": [
      "C:\\Users\\Anoop Raj\\anaconda3\\Lib\\site-packages\\seaborn\\_oldcore.py:1119: FutureWarning: use_inf_as_na option is deprecated and will be removed in a future version. Convert inf values to NaN before operating instead.\n",
      "  with pd.option_context('mode.use_inf_as_na', True):\n",
      "C:\\Users\\Anoop Raj\\anaconda3\\Lib\\site-packages\\seaborn\\_oldcore.py:1119: FutureWarning: use_inf_as_na option is deprecated and will be removed in a future version. Convert inf values to NaN before operating instead.\n",
      "  with pd.option_context('mode.use_inf_as_na', True):\n"
     ]
    },
    {
     "data": {
      "text/plain": [
       "<matplotlib.legend.Legend at 0x14ccf8a8c90>"
      ]
     },
     "execution_count": 24,
     "metadata": {},
     "output_type": "execute_result"
    },
    {
     "data": {
      "image/png": "[encoded data removed]",
      "text/plain": [
       "<Figure size 640x480 with 1 Axes>"
      ]
     },
     "metadata": {},
     "output_type": "display_data"
    }
   ],
   "source": [
    "sns.kdeplot(data['residential_assets_value'],label = 'with outlier')\n",
    "sns.kdeplot(data['cappednp_rav'],label=' without outlier')\n",
    "plt.legend()"
   ]
  },
  {
   "cell_type": "markdown",
   "id": "b0eaa2da-9cbb-41bd-a18b-688b1ee33eb0",
   "metadata": {},
   "source": [
    "# Z-score"
   ]
  },
  {
   "cell_type": "code",
   "execution_count": 25,
   "id": "009849b8-b696-4243-8c0b-729960d80a07",
   "metadata": {},
   "outputs": [
    {
     "data": {
      "text/html": [
       "<div>\n",
       "<style scoped>\n",
       "    .dataframe tbody tr th:only-of-type {\n",
       "        vertical-align: middle;\n",
       "    }\n",
       "\n",
       "    .dataframe tbody tr th {\n",
       "        vertical-align: top;\n",
       "    }\n",
       "\n",
       "    .dataframe thead th {\n",
       "        text-align: right;\n",
       "    }\n",
       "</style>\n",
       "<table border=\"1\" class=\"dataframe\">\n",
       "  <thead>\n",
       "    <tr style=\"text-align: right;\">\n",
       "      <th></th>\n",
       "      <th>residential_assets_value</th>\n",
       "      <th>commercial_assets_value</th>\n",
       "      <th>boundval_rav</th>\n",
       "      <th>cappednp_rav</th>\n",
       "    </tr>\n",
       "  </thead>\n",
       "  <tbody>\n",
       "    <tr>\n",
       "      <th>0</th>\n",
       "      <td>2400000.0</td>\n",
       "      <td>17600000.0</td>\n",
       "      <td>2.400000e+06</td>\n",
       "      <td>2.400000e+06</td>\n",
       "    </tr>\n",
       "    <tr>\n",
       "      <th>1</th>\n",
       "      <td>2700000.0</td>\n",
       "      <td>2200000.0</td>\n",
       "      <td>2.700000e+06</td>\n",
       "      <td>2.700000e+06</td>\n",
       "    </tr>\n",
       "    <tr>\n",
       "      <th>2</th>\n",
       "      <td>7100000.0</td>\n",
       "      <td>NaN</td>\n",
       "      <td>7.100000e+06</td>\n",
       "      <td>7.100000e+06</td>\n",
       "    </tr>\n",
       "    <tr>\n",
       "      <th>3</th>\n",
       "      <td>NaN</td>\n",
       "      <td>3300000.0</td>\n",
       "      <td>7.453194e+06</td>\n",
       "      <td>7.453194e+06</td>\n",
       "    </tr>\n",
       "    <tr>\n",
       "      <th>4</th>\n",
       "      <td>12400000.0</td>\n",
       "      <td>8200000.0</td>\n",
       "      <td>1.240000e+07</td>\n",
       "      <td>1.240000e+07</td>\n",
       "    </tr>\n",
       "  </tbody>\n",
       "</table>\n",
       "</div>"
      ],
      "text/plain": [
       "   residential_assets_value  commercial_assets_value  boundval_rav  \\\n",
       "0                 2400000.0               17600000.0  2.400000e+06   \n",
       "1                 2700000.0                2200000.0  2.700000e+06   \n",
       "2                 7100000.0                      NaN  7.100000e+06   \n",
       "3                       NaN                3300000.0  7.453194e+06   \n",
       "4                12400000.0                8200000.0  1.240000e+07   \n",
       "\n",
       "   cappednp_rav  \n",
       "0  2.400000e+06  \n",
       "1  2.700000e+06  \n",
       "2  7.100000e+06  \n",
       "3  7.453194e+06  \n",
       "4  1.240000e+07  "
      ]
     },
     "execution_count": 25,
     "metadata": {},
     "output_type": "execute_result"
    }
   ],
   "source": [
    "data.head()"
   ]
  },
  {
   "cell_type": "code",
   "execution_count": 26,
   "id": "7010dd54-ab9d-4e29-8181-deeb5e0125c7",
   "metadata": {},
   "outputs": [],
   "source": [
    "mean = data['residential_assets_value'].mean()\n",
    "std = data['residential_assets_value'].std()"
   ]
  },
  {
   "cell_type": "code",
   "execution_count": 27,
   "id": "f41a34e4-eebb-4916-af31-eabde19edd24",
   "metadata": {},
   "outputs": [
    {
     "name": "stderr",
     "output_type": "stream",
     "text": [
      "C:\\Users\\Anoop Raj\\AppData\\Local\\Temp\\ipykernel_19472\\951880619.py:1: SettingWithCopyWarning: \n",
      "A value is trying to be set on a copy of a slice from a DataFrame.\n",
      "Try using .loc[row_indexer,col_indexer] = value instead\n",
      "\n",
      "See the caveats in the documentation: https://pandas.pydata.org/pandas-docs/stable/user_guide/indexing.html#returning-a-view-versus-a-copy\n",
      "  data['rav_zScore'] = (data['residential_assets_value']-mean)/std\n"
     ]
    }
   ],
   "source": [
    "data['rav_zScore'] = (data['residential_assets_value']-mean)/std"
   ]
  },
  {
   "cell_type": "code",
   "execution_count": 28,
   "id": "2f2d24c8-261b-4a2a-8c8d-4dfb9ab8662c",
   "metadata": {},
   "outputs": [],
   "source": [
    "#data['rav_zScore']"
   ]
  },
  {
   "cell_type": "code",
   "execution_count": 29,
   "id": "c4b12683-6f37-476e-85b6-9b8677671c4a",
   "metadata": {},
   "outputs": [
    {
     "data": {
      "text/html": [
       "<div>\n",
       "<style scoped>\n",
       "    .dataframe tbody tr th:only-of-type {\n",
       "        vertical-align: middle;\n",
       "    }\n",
       "\n",
       "    .dataframe tbody tr th {\n",
       "        vertical-align: top;\n",
       "    }\n",
       "\n",
       "    .dataframe thead th {\n",
       "        text-align: right;\n",
       "    }\n",
       "</style>\n",
       "<table border=\"1\" class=\"dataframe\">\n",
       "  <thead>\n",
       "    <tr style=\"text-align: right;\">\n",
       "      <th></th>\n",
       "      <th>residential_assets_value</th>\n",
       "      <th>commercial_assets_value</th>\n",
       "      <th>boundval_rav</th>\n",
       "      <th>cappednp_rav</th>\n",
       "      <th>rav_zScore</th>\n",
       "    </tr>\n",
       "  </thead>\n",
       "  <tbody>\n",
       "    <tr>\n",
       "      <th>0</th>\n",
       "      <td>2400000.0</td>\n",
       "      <td>17600000.0</td>\n",
       "      <td>2.400000e+06</td>\n",
       "      <td>2.400000e+06</td>\n",
       "      <td>-0.777833</td>\n",
       "    </tr>\n",
       "    <tr>\n",
       "      <th>1</th>\n",
       "      <td>2700000.0</td>\n",
       "      <td>2200000.0</td>\n",
       "      <td>2.700000e+06</td>\n",
       "      <td>2.700000e+06</td>\n",
       "      <td>-0.731654</td>\n",
       "    </tr>\n",
       "    <tr>\n",
       "      <th>2</th>\n",
       "      <td>7100000.0</td>\n",
       "      <td>NaN</td>\n",
       "      <td>7.100000e+06</td>\n",
       "      <td>7.100000e+06</td>\n",
       "      <td>-0.054367</td>\n",
       "    </tr>\n",
       "    <tr>\n",
       "      <th>3</th>\n",
       "      <td>NaN</td>\n",
       "      <td>3300000.0</td>\n",
       "      <td>7.453194e+06</td>\n",
       "      <td>7.453194e+06</td>\n",
       "      <td>NaN</td>\n",
       "    </tr>\n",
       "    <tr>\n",
       "      <th>4</th>\n",
       "      <td>12400000.0</td>\n",
       "      <td>8200000.0</td>\n",
       "      <td>1.240000e+07</td>\n",
       "      <td>1.240000e+07</td>\n",
       "      <td>0.761457</td>\n",
       "    </tr>\n",
       "  </tbody>\n",
       "</table>\n",
       "</div>"
      ],
      "text/plain": [
       "   residential_assets_value  commercial_assets_value  boundval_rav  \\\n",
       "0                 2400000.0               17600000.0  2.400000e+06   \n",
       "1                 2700000.0                2200000.0  2.700000e+06   \n",
       "2                 7100000.0                      NaN  7.100000e+06   \n",
       "3                       NaN                3300000.0  7.453194e+06   \n",
       "4                12400000.0                8200000.0  1.240000e+07   \n",
       "\n",
       "   cappednp_rav  rav_zScore  \n",
       "0  2.400000e+06   -0.777833  \n",
       "1  2.700000e+06   -0.731654  \n",
       "2  7.100000e+06   -0.054367  \n",
       "3  7.453194e+06         NaN  \n",
       "4  1.240000e+07    0.761457  "
      ]
     },
     "execution_count": 29,
     "metadata": {},
     "output_type": "execute_result"
    }
   ],
   "source": [
    "data.head()"
   ]
  },
  {
   "cell_type": "code",
   "execution_count": 30,
   "id": "9011000c-ec81-4368-a47b-18544939d8d3",
   "metadata": {},
   "outputs": [
    {
     "data": {
      "text/plain": [
       "3.3320719157863232"
      ]
     },
     "execution_count": 30,
     "metadata": {},
     "output_type": "execute_result"
    }
   ],
   "source": [
    "data['rav_zScore'].max()"
   ]
  },
  {
   "cell_type": "code",
   "execution_count": 31,
   "id": "5f3dda20-98fd-469b-b8e5-2517597cc6e9",
   "metadata": {},
   "outputs": [],
   "source": [
    "upper_val = 2.7\n",
    "lower_val = -2.7"
   ]
  },
  {
   "cell_type": "code",
   "execution_count": 32,
   "id": "17a47ff0-315f-426c-8e2e-fa79f7c55487",
   "metadata": {},
   "outputs": [],
   "source": [
    "outliers = data[(data['rav_zScore']>upper_val) | (data['rav_zScore']<lower_val)]"
   ]
  },
  {
   "cell_type": "code",
   "execution_count": 33,
   "id": "db1986b3-8d6c-434a-8ede-6e955796038e",
   "metadata": {},
   "outputs": [
    {
     "data": {
      "text/plain": [
       "(50, 5)"
      ]
     },
     "execution_count": 33,
     "metadata": {},
     "output_type": "execute_result"
    }
   ],
   "source": [
    "outliers.shape"
   ]
  },
  {
   "cell_type": "code",
   "execution_count": 34,
   "id": "2e1f777b-74f2-4270-b76a-4480e1f498e2",
   "metadata": {},
   "outputs": [],
   "source": [
    "trimmed_df = data[(data['rav_zScore']<=upper_val) & (data['rav_zScore']>=lower_val)]"
   ]
  },
  {
   "cell_type": "code",
   "execution_count": 35,
   "id": "f67b2f37-85d0-4875-b412-8aa9ec2f6406",
   "metadata": {},
   "outputs": [
    {
     "data": {
      "text/plain": [
       "(3958, 5)"
      ]
     },
     "execution_count": 35,
     "metadata": {},
     "output_type": "execute_result"
    }
   ],
   "source": [
    "trimmed_df.shape"
   ]
  },
  {
   "cell_type": "code",
   "execution_count": 36,
   "id": "a7e0e6be-7f0e-40b0-8294-dc7bdf1196ad",
   "metadata": {},
   "outputs": [
    {
     "data": {
      "text/plain": [
       "(4269, 5)"
      ]
     },
     "execution_count": 36,
     "metadata": {},
     "output_type": "execute_result"
    }
   ],
   "source": [
    "data.shape"
   ]
  },
  {
   "cell_type": "code",
   "execution_count": 37,
   "id": "caa2a0e2-529a-48f4-ad92-56794fd9b522",
   "metadata": {},
   "outputs": [
    {
     "name": "stderr",
     "output_type": "stream",
     "text": [
      "C:\\Users\\Anoop Raj\\anaconda3\\Lib\\site-packages\\seaborn\\_oldcore.py:1119: FutureWarning: use_inf_as_na option is deprecated and will be removed in a future version. Convert inf values to NaN before operating instead.\n",
      "  with pd.option_context('mode.use_inf_as_na', True):\n",
      "C:\\Users\\Anoop Raj\\anaconda3\\Lib\\site-packages\\seaborn\\_oldcore.py:1119: FutureWarning: use_inf_as_na option is deprecated and will be removed in a future version. Convert inf values to NaN before operating instead.\n",
      "  with pd.option_context('mode.use_inf_as_na', True):\n"
     ]
    },
    {
     "data": {
      "text/plain": [
       "<matplotlib.legend.Legend at 0x14cd2b77010>"
      ]
     },
     "execution_count": 37,
     "metadata": {},
     "output_type": "execute_result"
    },
    {
     "data": {
      "image/png": "[encoded data removed]",
      "text/plain": [
       "<Figure size 640x480 with 1 Axes>"
      ]
     },
     "metadata": {},
     "output_type": "display_data"
    }
   ],
   "source": [
    "sns.kdeplot(data['residential_assets_value'],label = 'with outlier',ls='dashed',color='black')\n",
    "sns.kdeplot(trimmed_df['residential_assets_value'],label=' without outlier',color='blue')\n",
    "plt.legend()\n"
   ]
  },
  {
   "cell_type": "code",
   "execution_count": 38,
   "id": "af3cbf0c-bdf4-4881-ad8e-c0abb6ceda65",
   "metadata": {},
   "outputs": [
    {
     "data": {
      "text/plain": [
       "<Axes: >"
      ]
     },
     "execution_count": 38,
     "metadata": {},
     "output_type": "execute_result"
    },
    {
     "data": {
      "image/png": "[encoded data removed]",
      "text/plain": [
       "<Figure size 640x480 with 1 Axes>"
      ]
     },
     "metadata": {},
     "output_type": "display_data"
    }
   ],
   "source": [
    "sns.boxplot(data['residential_assets_value'])"
   ]
  },
  {
   "cell_type": "code",
   "execution_count": 39,
   "id": "10a428b8-debc-405c-b2f7-20a20c3cbfeb",
   "metadata": {},
   "outputs": [
    {
     "data": {
      "text/plain": [
       "<Axes: >"
      ]
     },
     "execution_count": 39,
     "metadata": {},
     "output_type": "execute_result"
    },
    {
     "data": {
      "image/png": "[encoded data removed]",
      "text/plain": [
       "<Figure size 640x480 with 1 Axes>"
      ]
     },
     "metadata": {},
     "output_type": "display_data"
    }
   ],
   "source": [
    "sns.boxplot(trimmed_df['residential_assets_value'])"
   ]
  },
  {
   "cell_type": "code",
   "execution_count": 40,
   "id": "826e14d1-fefb-46b2-9e8c-9e83cbd667b3",
   "metadata": {},
   "outputs": [],
   "source": [
    "max_valid_Zscore = data[data['rav_zScore']<=upper_val]['rav_zScore'].max()\n",
    "min_valid_Zscore = data[data['rav_zScore']<=upper_val]['rav_zScore'].min()"
   ]
  },
  {
   "cell_type": "code",
   "execution_count": 41,
   "id": "64a1c29e-2cb3-4238-8951-df4f77d26149",
   "metadata": {},
   "outputs": [
    {
     "name": "stdout",
     "output_type": "stream",
     "text": [
      "2.6855699886216184\n",
      "-1.162655768311148\n"
     ]
    }
   ],
   "source": [
    "print(max_valid_Zscore)\n",
    "print(min_valid_Zscore)"
   ]
  },
  {
   "cell_type": "code",
   "execution_count": 42,
   "id": "c11575e5-2e6e-4bfb-b880-4b7a7f1e0474",
   "metadata": {},
   "outputs": [],
   "source": [
    "max_valid_value = data[data['rav_zScore']==max_valid_Zscore]['residential_assets_value'] .values[0]\n",
    "min_valid_value = data[data['rav_zScore']==min_valid_Zscore]['residential_assets_value'] .values[0]"
   ]
  },
  {
   "cell_type": "code",
   "execution_count": 43,
   "id": "1ada38dc-7385-447a-b9fd-d757c1c6119d",
   "metadata": {},
   "outputs": [
    {
     "name": "stderr",
     "output_type": "stream",
     "text": [
      "C:\\Users\\Anoop Raj\\AppData\\Local\\Temp\\ipykernel_19472\\2107184178.py:3: SettingWithCopyWarning: \n",
      "A value is trying to be set on a copy of a slice from a DataFrame.\n",
      "Try using .loc[row_indexer,col_indexer] = value instead\n",
      "\n",
      "See the caveats in the documentation: https://pandas.pydata.org/pandas-docs/stable/user_guide/indexing.html#returning-a-view-versus-a-copy\n",
      "  data['zScore_capped'] = np.where(data['residential_assets_value']>max_valid_value,max_valid_value,\n"
     ]
    }
   ],
   "source": [
    "# capping\n",
    "\n",
    "data['zScore_capped'] = np.where(data['residential_assets_value']>max_valid_value,max_valid_value,\n",
    "                                        np.where(data['residential_assets_value']<min_valid_value,\n",
    "                                                 min_valid_value,\n",
    "                                                 data['residential_assets_value']))"
   ]
  },
  {
   "cell_type": "code",
   "execution_count": 44,
   "id": "d332f8f1-801d-4926-9bb2-4104d2e3a5a7",
   "metadata": {},
   "outputs": [
    {
     "data": {
      "text/html": [
       "<div>\n",
       "<style scoped>\n",
       "    .dataframe tbody tr th:only-of-type {\n",
       "        vertical-align: middle;\n",
       "    }\n",
       "\n",
       "    .dataframe tbody tr th {\n",
       "        vertical-align: top;\n",
       "    }\n",
       "\n",
       "    .dataframe thead th {\n",
       "        text-align: right;\n",
       "    }\n",
       "</style>\n",
       "<table border=\"1\" class=\"dataframe\">\n",
       "  <thead>\n",
       "    <tr style=\"text-align: right;\">\n",
       "      <th></th>\n",
       "      <th>residential_assets_value</th>\n",
       "      <th>commercial_assets_value</th>\n",
       "      <th>boundval_rav</th>\n",
       "      <th>cappednp_rav</th>\n",
       "      <th>rav_zScore</th>\n",
       "      <th>zScore_capped</th>\n",
       "    </tr>\n",
       "  </thead>\n",
       "  <tbody>\n",
       "    <tr>\n",
       "      <th>0</th>\n",
       "      <td>2400000.0</td>\n",
       "      <td>17600000.0</td>\n",
       "      <td>2.400000e+06</td>\n",
       "      <td>2.400000e+06</td>\n",
       "      <td>-0.777833</td>\n",
       "      <td>2400000.0</td>\n",
       "    </tr>\n",
       "    <tr>\n",
       "      <th>1</th>\n",
       "      <td>2700000.0</td>\n",
       "      <td>2200000.0</td>\n",
       "      <td>2.700000e+06</td>\n",
       "      <td>2.700000e+06</td>\n",
       "      <td>-0.731654</td>\n",
       "      <td>2700000.0</td>\n",
       "    </tr>\n",
       "    <tr>\n",
       "      <th>2</th>\n",
       "      <td>7100000.0</td>\n",
       "      <td>NaN</td>\n",
       "      <td>7.100000e+06</td>\n",
       "      <td>7.100000e+06</td>\n",
       "      <td>-0.054367</td>\n",
       "      <td>7100000.0</td>\n",
       "    </tr>\n",
       "    <tr>\n",
       "      <th>3</th>\n",
       "      <td>NaN</td>\n",
       "      <td>3300000.0</td>\n",
       "      <td>7.453194e+06</td>\n",
       "      <td>7.453194e+06</td>\n",
       "      <td>NaN</td>\n",
       "      <td>NaN</td>\n",
       "    </tr>\n",
       "    <tr>\n",
       "      <th>4</th>\n",
       "      <td>12400000.0</td>\n",
       "      <td>8200000.0</td>\n",
       "      <td>1.240000e+07</td>\n",
       "      <td>1.240000e+07</td>\n",
       "      <td>0.761457</td>\n",
       "      <td>12400000.0</td>\n",
       "    </tr>\n",
       "  </tbody>\n",
       "</table>\n",
       "</div>"
      ],
      "text/plain": [
       "   residential_assets_value  commercial_assets_value  boundval_rav  \\\n",
       "0                 2400000.0               17600000.0  2.400000e+06   \n",
       "1                 2700000.0                2200000.0  2.700000e+06   \n",
       "2                 7100000.0                      NaN  7.100000e+06   \n",
       "3                       NaN                3300000.0  7.453194e+06   \n",
       "4                12400000.0                8200000.0  1.240000e+07   \n",
       "\n",
       "   cappednp_rav  rav_zScore  zScore_capped  \n",
       "0  2.400000e+06   -0.777833      2400000.0  \n",
       "1  2.700000e+06   -0.731654      2700000.0  \n",
       "2  7.100000e+06   -0.054367      7100000.0  \n",
       "3  7.453194e+06         NaN            NaN  \n",
       "4  1.240000e+07    0.761457     12400000.0  "
      ]
     },
     "execution_count": 44,
     "metadata": {},
     "output_type": "execute_result"
    }
   ],
   "source": [
    "data.head()"
   ]
  },
  {
   "cell_type": "code",
   "execution_count": 45,
   "id": "94df22f7-411c-4eab-95d1-b6442c8a370e",
   "metadata": {},
   "outputs": [
    {
     "name": "stderr",
     "output_type": "stream",
     "text": [
      "C:\\Users\\Anoop Raj\\anaconda3\\Lib\\site-packages\\seaborn\\_oldcore.py:1119: FutureWarning: use_inf_as_na option is deprecated and will be removed in a future version. Convert inf values to NaN before operating instead.\n",
      "  with pd.option_context('mode.use_inf_as_na', True):\n",
      "C:\\Users\\Anoop Raj\\anaconda3\\Lib\\site-packages\\seaborn\\_oldcore.py:1119: FutureWarning: use_inf_as_na option is deprecated and will be removed in a future version. Convert inf values to NaN before operating instead.\n",
      "  with pd.option_context('mode.use_inf_as_na', True):\n"
     ]
    },
    {
     "data": {
      "text/plain": [
       "<Axes: xlabel='residential_assets_value', ylabel='Density'>"
      ]
     },
     "execution_count": 45,
     "metadata": {},
     "output_type": "execute_result"
    },
    {
     "data": {
      "image/png": "[encoded data removed]",
      "text/plain": [
       "<Figure size 640x480 with 1 Axes>"
      ]
     },
     "metadata": {},
     "output_type": "display_data"
    }
   ],
   "source": [
    "sns.kdeplot(data['residential_assets_value'],ls='dashed',color='black')\n",
    "sns.kdeplot(data['zScore_capped'],color='skyblue')"
   ]
  },
  {
   "cell_type": "code",
   "execution_count": null,
   "id": "28a24b9d-acdc-4ea1-a98a-626c0971cb8f",
   "metadata": {},
   "outputs": [],
   "source": []
  }
 ],
 "metadata": {
  "kernelspec": {
   "display_name": "Python 3 (ipykernel)",
   "language": "python",
   "name": "python3"
  },
  "language_info": {
   "codemirror_mode": {
    "name": "ipython",
    "version": 3
   },
   "file_extension": ".py",
   "mimetype": "text/x-python",
   "name": "python",
   "nbconvert_exporter": "python",
   "pygments_lexer": "ipython3",
   "version": "3.11.7"
  },
  "widgets": {
   "application/vnd.jupyter.widget-state+json": {
    "state": {},
    "version_major": 2,
    "version_minor": 0
   }
  }
 },
 "nbformat": 4,
 "nbformat_minor": 5
}
